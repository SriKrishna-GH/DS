{
  "nbformat": 4,
  "nbformat_minor": 0,
  "metadata": {
    "colab": {
      "provenance": [],
      "authorship_tag": "ABX9TyOgRsrm6EOTcWF02F/UFAdF",
      "include_colab_link": true
    },
    "kernelspec": {
      "name": "python3",
      "display_name": "Python 3"
    },
    "language_info": {
      "name": "python"
    }
  },
  "cells": [
    {
      "cell_type": "markdown",
      "metadata": {
        "id": "view-in-github",
        "colab_type": "text"
      },
      "source": [
        "<a href=\"https://colab.research.google.com/github/SriKrishna-GH/DS/blob/main/daag.ipynb\" target=\"_parent\"><img src=\"https://colab.research.google.com/assets/colab-badge.svg\" alt=\"Open In Colab\"/></a>"
      ]
    },
    {
      "cell_type": "code",
      "source": [
        "import numpy as np\n",
        "import pandas as pd\n",
        "df=pd.DataFrame({\"Name\":[\"Alice\",\"Bob\",\"Charlie\",\"Alice\",\"Bob\",\"Charlie\"],\"Catagory\":[\"A\",\"B\",\"C\",\"A\",\"B\",\"C\"],\"value\":np.random.randint(1,5,size=6),\"score\":np.random.randint(60,100,size=6)})\n",
        "print(\"\\n Original DataFrame: \\n\",df)\n",
        "df1=df.groupby([\"Name\"],as_index=False)[\"value\"].sum()\n",
        "print(\"\\n Grouped by name and aggredation with one column sum:\\n\",df1)"
      ],
      "metadata": {
        "colab": {
          "base_uri": "https://localhost:8080/"
        },
        "id": "xdRmWxofq5Zd",
        "outputId": "ed9b3438-df38-4d14-b16b-3c4a6a71c492"
      },
      "execution_count": 14,
      "outputs": [
        {
          "output_type": "stream",
          "name": "stdout",
          "text": [
            "\n",
            " Original DataFrame: \n",
            "       Name Catagory  value  score\n",
            "0    Alice        A      1     60\n",
            "1      Bob        B      3     62\n",
            "2  Charlie        C      3     64\n",
            "3    Alice        A      2     73\n",
            "4      Bob        B      3     62\n",
            "5  Charlie        C      3     96\n",
            "\n",
            " Grouped by name and aggredation with one column sum:\n",
            "       Name  value\n",
            "0    Alice      3\n",
            "1      Bob      6\n",
            "2  Charlie      6\n"
          ]
        }
      ]
    },
    {
      "cell_type": "code",
      "source": [
        "df2=df.groupby(('Name'),as_index=False)[['value','score']].sum()\n",
        "print(\"\\nGroup by name and Aggregation with two column:\\n\",df2)"
      ],
      "metadata": {
        "colab": {
          "base_uri": "https://localhost:8080/"
        },
        "id": "ypxX16oBurSW",
        "outputId": "e9ca491f-e344-446d-ded7-c51a2f35fd4b"
      },
      "execution_count": 15,
      "outputs": [
        {
          "output_type": "stream",
          "name": "stdout",
          "text": [
            "\n",
            "Group by name and Aggregation with two column:\n",
            "       Name  value  score\n",
            "0    Alice      3    133\n",
            "1      Bob      6    124\n",
            "2  Charlie      6    160\n"
          ]
        }
      ]
    },
    {
      "cell_type": "code",
      "source": [
        "df3=df.groupby(('Name'),as_index=False)['value'].agg('sum')\n",
        "print(\"\\nGroup by name and Aggregation with one column using agg function:\\n\",df3)"
      ],
      "metadata": {
        "colab": {
          "base_uri": "https://localhost:8080/"
        },
        "id": "fwYB_I4_ulX-",
        "outputId": "d8bea903-8ba4-4f8c-eaed-00c3ff831001"
      },
      "execution_count": 16,
      "outputs": [
        {
          "output_type": "stream",
          "name": "stdout",
          "text": [
            "\n",
            "Group by name and Aggregation with one column using agg function:\n",
            "       Name  value\n",
            "0    Alice      3\n",
            "1      Bob      6\n",
            "2  Charlie      6\n"
          ]
        }
      ]
    },
    {
      "cell_type": "code",
      "source": [
        "df4 = df.groupby('Name').agg({\n",
        "'value': ['sum', 'mean', 'min', 'max'],\n",
        "'score': ['sum', 'mean']})\n",
        "print(\"\\nGroup by name and multiple Aggregation functions :\\n\", df4)"
      ],
      "metadata": {
        "colab": {
          "base_uri": "https://localhost:8080/"
        },
        "id": "8PbZCirXuxOW",
        "outputId": "05bb3301-1376-489f-9185-e88f1dd0e92a"
      },
      "execution_count": 17,
      "outputs": [
        {
          "output_type": "stream",
          "name": "stdout",
          "text": [
            "\n",
            "Group by name and multiple Aggregation functions :\n",
            "         value              score      \n",
            "          sum mean min max   sum  mean\n",
            "Name                                  \n",
            "Alice       3  1.5   1   2   133  66.5\n",
            "Bob         6  3.0   3   3   124  62.0\n",
            "Charlie     6  3.0   3   3   160  80.0\n"
          ]
        }
      ]
    },
    {
      "cell_type": "code",
      "source": [
        "df5=df.groupby((\"Name\"),as_index=False)[\"value\"].count()\n",
        "print(\"\\n Group and count:\\n\",df5)"
      ],
      "metadata": {
        "colab": {
          "base_uri": "https://localhost:8080/"
        },
        "id": "3xKPS2ntu_pW",
        "outputId": "113bbc58-eeeb-4265-99fe-cd17e0e506df"
      },
      "execution_count": 18,
      "outputs": [
        {
          "output_type": "stream",
          "name": "stdout",
          "text": [
            "\n",
            " Group and count:\n",
            "       Name  value\n",
            "0    Alice      2\n",
            "1      Bob      2\n",
            "2  Charlie      2\n"
          ]
        }
      ]
    },
    {
      "cell_type": "code",
      "source": [
        "df6=df.groupby((\"Name\")).count()\n",
        "print(\"\\n Group and count:\\n\",df6)"
      ],
      "metadata": {
        "colab": {
          "base_uri": "https://localhost:8080/"
        },
        "id": "Gl3M1pFcv16O",
        "outputId": "23ce631f-bbab-45c4-deed-a495c959f124"
      },
      "execution_count": 19,
      "outputs": [
        {
          "output_type": "stream",
          "name": "stdout",
          "text": [
            "\n",
            " Group and count:\n",
            "          Catagory  value  score\n",
            "Name                           \n",
            "Alice           2      2      2\n",
            "Bob             2      2      2\n",
            "Charlie         2      2      2\n"
          ]
        }
      ]
    },
    {
      "cell_type": "code",
      "source": [
        "df7=df.groupby(('Name'),as_index=False)['value'].first()\n",
        "print(\"\\n Group and display from first:\\n\",df7)"
      ],
      "metadata": {
        "colab": {
          "base_uri": "https://localhost:8080/"
        },
        "id": "gN8dBEwBwNBn",
        "outputId": "bdf0d8bd-7db9-4741-ffad-ea045a234ee7"
      },
      "execution_count": 20,
      "outputs": [
        {
          "output_type": "stream",
          "name": "stdout",
          "text": [
            "\n",
            " Group and display from first:\n",
            "       Name  value\n",
            "0    Alice      1\n",
            "1      Bob      3\n",
            "2  Charlie      3\n"
          ]
        }
      ]
    },
    {
      "cell_type": "code",
      "source": [
        "df8=df.groupby(('Name')).first()\n",
        "print(\"\\n Group and display from first:\\n\",df8)"
      ],
      "metadata": {
        "colab": {
          "base_uri": "https://localhost:8080/"
        },
        "id": "dabAfhh6wmbe",
        "outputId": "044202b4-9138-49c7-d67a-953eaa4e53c9"
      },
      "execution_count": 21,
      "outputs": [
        {
          "output_type": "stream",
          "name": "stdout",
          "text": [
            "\n",
            " Group and display from first:\n",
            "         Catagory  value  score\n",
            "Name                          \n",
            "Alice          A      1     60\n",
            "Bob            B      3     62\n",
            "Charlie        C      3     64\n"
          ]
        }
      ]
    },
    {
      "cell_type": "code",
      "source": [
        "df9=df.groupby((\"Name\")).first()\n",
        "print(\"\\n Group and display from first\\n\",df9)"
      ],
      "metadata": {
        "colab": {
          "base_uri": "https://localhost:8080/"
        },
        "id": "ZE4zJKJtxvs_",
        "outputId": "b4f1265c-d2d1-4986-d347-8b82b34748a6"
      },
      "execution_count": 22,
      "outputs": [
        {
          "output_type": "stream",
          "name": "stdout",
          "text": [
            "\n",
            " Group and display from first\n",
            "         Catagory  value  score\n",
            "Name                          \n",
            "Alice          A      1     60\n",
            "Bob            B      3     62\n",
            "Charlie        C      3     64\n"
          ]
        }
      ]
    },
    {
      "cell_type": "code",
      "source": [
        "df9=df.groupby(('Name')).last()\n",
        "print(\"\\n Group and display from last:\\n\",df9)"
      ],
      "metadata": {
        "colab": {
          "base_uri": "https://localhost:8080/"
        },
        "id": "HnfghiNAxB9n",
        "outputId": "b0f7264f-ab23-456b-aa34-e9261a26050f"
      },
      "execution_count": 23,
      "outputs": [
        {
          "output_type": "stream",
          "name": "stdout",
          "text": [
            "\n",
            " Group and display from last:\n",
            "         Catagory  value  score\n",
            "Name                          \n",
            "Alice          A      2     73\n",
            "Bob            B      3     62\n",
            "Charlie        C      3     96\n"
          ]
        }
      ]
    },
    {
      "cell_type": "code",
      "source": [
        "df10=df.groupby(('Name'),as_index=False)['value'].last()\n",
        "print(\"\\n Group and display from last:\\n\",df10)"
      ],
      "metadata": {
        "colab": {
          "base_uri": "https://localhost:8080/"
        },
        "id": "_v1_reO7Numu",
        "outputId": "ec23b3b8-36f7-4f04-fc10-3a36282c59a9"
      },
      "execution_count": 24,
      "outputs": [
        {
          "output_type": "stream",
          "name": "stdout",
          "text": [
            "\n",
            " Group and display from last:\n",
            "       Name  value\n",
            "0    Alice      2\n",
            "1      Bob      3\n",
            "2  Charlie      3\n"
          ]
        }
      ]
    },
    {
      "cell_type": "code",
      "source": [
        "df11=df.groupby(('Name')).size()\n",
        "print(\"\\n Group and display from size:\\n\",df11)"
      ],
      "metadata": {
        "colab": {
          "base_uri": "https://localhost:8080/"
        },
        "id": "kwmQvC-pOb9i",
        "outputId": "1055d759-ca4b-475d-84eb-73c0a34510ff"
      },
      "execution_count": 25,
      "outputs": [
        {
          "output_type": "stream",
          "name": "stdout",
          "text": [
            "\n",
            " Group and display from size:\n",
            " Name\n",
            "Alice      2\n",
            "Bob        2\n",
            "Charlie    2\n",
            "dtype: int64\n"
          ]
        }
      ]
    },
    {
      "cell_type": "code",
      "source": [
        " df12=df.groupby(('Name'),as_index=False)['value'].size()\n",
        "print(\"\\n Group and display from size:\\n\",df12)"
      ],
      "metadata": {
        "colab": {
          "base_uri": "https://localhost:8080/"
        },
        "id": "J688Dk-xOE53",
        "outputId": "81c59479-6e6f-48d7-bdc7-2baa9b5276c4"
      },
      "execution_count": 26,
      "outputs": [
        {
          "output_type": "stream",
          "name": "stdout",
          "text": [
            "\n",
            " Group and display from size:\n",
            "       Name  size\n",
            "0    Alice     2\n",
            "1      Bob     2\n",
            "2  Charlie     2\n"
          ]
        }
      ]
    }
  ]
}